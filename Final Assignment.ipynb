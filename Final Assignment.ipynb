{
  "metadata": {
    "language_info": {
      "codemirror_mode": {
        "name": "python",
        "version": 3
      },
      "file_extension": ".py",
      "mimetype": "text/x-python",
      "name": "python",
      "nbconvert_exporter": "python",
      "pygments_lexer": "ipython3",
      "version": "3.8"
    },
    "kernelspec": {
      "name": "python",
      "display_name": "Pyolite",
      "language": "python"
    }
  },
  "nbformat_minor": 4,
  "nbformat": 4,
  "cells": [
    {
      "cell_type": "markdown",
      "source": "# My Jupyter Notebook on IBM Watson Studio",
      "metadata": {
        "tags": []
      }
    },
    {
      "cell_type": "markdown",
      "source": "<b> Shujin Wang </b>\n<br>Clinical Informaticist",
      "metadata": {}
    },
    {
      "cell_type": "markdown",
      "source": "I am interested in data science because it can help with improving patient care. ",
      "metadata": {}
    },
    {
      "cell_type": "markdown",
      "source": "<h3> The next cell shows you how Python solves simple math equation. ",
      "metadata": {}
    },
    {
      "cell_type": "code",
      "source": "12*12",
      "metadata": {
        "trusted": true
      },
      "execution_count": 15,
      "outputs": [
        {
          "execution_count": 15,
          "output_type": "execute_result",
          "data": {
            "text/plain": "144"
          },
          "metadata": {}
        }
      ]
    },
    {
      "cell_type": "markdown",
      "source": "This cell will show you numbered list, tables and a hyperlink. \n<br>\n<br> List of my favorite fruits \n1. Durian\n2. Mango\n3. Water Melon\n\n<br>\n\n| Country | City |\n| ------ | ------ |\n| US | Chicago |\n| Canada| Toronto |\n| Canada| Montreal |\n| US | New York |\n\n<br>\n<a href=\"https://www.google.com\" >Link to Google</a>",
      "metadata": {}
    },
    {
      "cell_type": "markdown",
      "source": "",
      "metadata": {}
    }
  ]
}